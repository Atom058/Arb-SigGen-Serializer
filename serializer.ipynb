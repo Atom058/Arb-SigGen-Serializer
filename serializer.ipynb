{
 "cells": [
  {
   "cell_type": "markdown",
   "metadata": {},
   "source": [
    "# About this notebook\n",
    "\n",
    "This notebook takes a string as input, converts it to it's binary representation (using ASCII encoding), and then outputs a CSV definition of a Arbitrary Waveform to use with Siglent's series of Signal Generators.\n",
    "\n",
    "## Inputs\n",
    "- **string_to_serialize**: The string you want to convert\n",
    "- **slew_rate**: Requested slew rate when switching between high and low (to reduce ringing), in seconds. Minimum 1ns, maximum 100ns.\n",
    "- **logic_high_level**: the logic HIGH voltage level\n",
    "- **logic_low_level**: the logic LOW voltage level\n",
    "- **baud_rate**: The baud rate of the output wave. Common values are 4800, 9600, 19200, 38400, 57600, 115200.\n",
    "\n",
    "### Buad rate, data length, and frequency\n",
    "The Arbitrary wave definition format uses \"frequency\" and \"data length\" as the two input variables. The defined waveform's available *points* is then spread out over the selected frequency. The number of points is equal to the data length.\n",
    "\n",
    "Because of this, there is a inherent relationship between the selected the frequency / data length and baud rate. To compensate for this, the baud rate is converted to a equivalent frequency + data length as input."
   ]
  },
  {
   "cell_type": "code",
   "execution_count": 25,
   "metadata": {
    "tags": [
     "input"
    ]
   },
   "outputs": [],
   "source": [
    "# Inputs\n",
    "string_to_serialize = \"$GPRMC,161229.487,A,3723.2475,N,12158.3416,W,0.13,309.62,120598, ,*10\\r\\n\"\n",
    "baud_rate           = 4800 \n",
    "slew_rate_input     = 1\n",
    "logic_high_level    = 3.3\n",
    "logic_low_level     = 0.0"
   ]
  },
  {
   "cell_type": "code",
   "execution_count": 42,
   "metadata": {},
   "outputs": [
    {
     "name": "stdout",
     "output_type": "stream",
     "text": [
      "Converted input is: 568 bits long\n",
      "Symbol duration 208.33 µs (entire message 0.118 s)\n",
      "Slew rate: 5.21e-05 seconds\n",
      "Selected frequency: 8.5 Hz\n",
      "Selected data_length: 4518\n",
      "One point takes: 2.60e-05 seconds\n"
     ]
    }
   ],
   "source": [
    "import math\n",
    "\n",
    "# Setting required variables\n",
    "frequency       = None\n",
    "data_length     = None\n",
    "point_duration  = None\n",
    "symbol_duration = None\n",
    "\n",
    "# division by some steps for smoother curves\n",
    "slew_rate_steps = 2\n",
    "dev_mode = False\n",
    "\n",
    "if not(baud_rate is None) and isinstance(baud_rate, int):\n",
    "    encoded_bits = len(string_to_serialize) * 8\n",
    "    print(f\"Converted input is: {encoded_bits} bits long\")\n",
    "\n",
    "    symbol_duration = 1 / baud_rate\n",
    "    print(f\"Symbol duration {(symbol_duration*1e6):.2f} µs (entire message {(symbol_duration * encoded_bits):.3f} s)\")\n",
    "    \n",
    "    slew_rate = min(\n",
    "        max(slew_rate_input, 0.5e-6),\n",
    "        symbol_duration / 4\n",
    "    )\n",
    "    print(f\"Slew rate: {slew_rate:.2e} seconds\")\n",
    "\n",
    "    frequency = math.ceil(\n",
    "        1 / (\n",
    "            symbol_duration * encoded_bits  #Message duration\n",
    "            + 2 * slew_rate                 #Headroom for slew rate\n",
    "        )\n",
    "        * 10\n",
    "    ) / 10\n",
    "    print(f\"Selected frequency: {frequency} Hz\")\n",
    "\n",
    "    # We want to have least 10 steps for the slew rate to do it's thing, which gives the data_length\n",
    "    data_length = math.ceil((1 / frequency) / (slew_rate / slew_rate_steps))\n",
    "    print(f\"Selected data_length: {data_length}\")\n",
    "\n",
    "    point_duration = (1 / frequency) / data_length\n",
    "    print(f\"One point takes: {point_duration:.2e} seconds\")\n",
    "\n",
    "else:\n",
    "    raise ValueError(\"baud_rate is not a valid number\")"
   ]
  },
  {
   "cell_type": "markdown",
   "metadata": {},
   "source": [
    "# Parsing logic\n",
    "\n",
    "1: Convert the string to ASCII ordinals\n",
    "2: "
   ]
  },
  {
   "cell_type": "code",
   "execution_count": 43,
   "metadata": {},
   "outputs": [],
   "source": [
    "s_t_s = [ord(char) for char in string_to_serialize]\n",
    "if dev_mode: print(s_t_s)\n",
    "\n",
    "# In this code, bin(value) converts each ASCII value to a binary string, \n",
    "#   [2:] strips the 0b prefix, and zfill(8) ensures each binary sequence is 8 bits long.\n",
    "# binary_values = [bin(value)[2:].zfill(8) for value in s_t_s]\n",
    "# binary_values\n",
    "# print(binary_values)\n",
    "\n",
    "if dev_mode: print(f\"First binary: {bin(s_t_s[0])[2:].zfill(8)}\")\n"
   ]
  },
  {
   "cell_type": "code",
   "execution_count": 44,
   "metadata": {},
   "outputs": [],
   "source": [
    "#Calculate standardized raise and fall sequences to append\n",
    "# logic_high_level = 3.3\n",
    "# logic_low_level = 0\n",
    "v_steps = abs((logic_high_level - logic_low_level) / (slew_rate_steps - 1))\n",
    "if(logic_high_level > logic_low_level):\n",
    "    rise_sequence = [(logic_low_level + (i) * v_steps) for i in range(slew_rate_steps)]\n",
    "    fall_sequence = rise_sequence.copy()\n",
    "    fall_sequence.reverse()\n",
    "else:\n",
    "    fall_sequence = [(logic_low_level + (i) * v_steps) for i in range(slew_rate_steps)]\n",
    "    rise_sequence = fall_sequence.copy()\n",
    "    rise_sequence.reverse()\n",
    "\n",
    "if dev_mode: print(rise_sequence)\n",
    "if dev_mode: print(fall_sequence)"
   ]
  },
  {
   "cell_type": "code",
   "execution_count": 46,
   "metadata": {},
   "outputs": [],
   "source": [
    "# Note: point_duration and symbol_duration are set in the 'required variables' step\n",
    "#   point_duration: how long each individual point approximately represents\n",
    "#   symbol_duration: how long each symbol is supposed to last, given the baud rate\n",
    "\n",
    "if dev_mode: print(f\"Symbol duration: {symbol_duration}\")\n",
    "if dev_mode: print(f\"Point duration: {point_duration}\")\n",
    "if dev_mode: print(f\"Approx. points per symbol: {(symbol_duration / point_duration):.2f}\")\n",
    "\n",
    "points_array = []\n",
    "prev_bit          = (s_t_s[0] >> 7) & 1 # set the first bit as the starting point\n",
    "point_count       = 0 # how many points have we put in so far\n",
    "symbol_count      = 0 # what is the current character we are working on\n",
    "\n",
    "for char in s_t_s:\n",
    "    for i in range(7, -1, -1):\n",
    "        symbol_count += 1\n",
    "        bit = (char >> i) & 1   #Check if bit is 1 or 0\n",
    "        \n",
    "        #Debug printing\n",
    "        # print(f\"pos{i}:{bit}\")\n",
    "        # points_array.append(90 + bit)\n",
    "\n",
    "        #Check if bit is 1 and privious was 0\n",
    "        if bit & 1 and (~prev_bit & 1):\n",
    "            points_array.extend(rise_sequence)\n",
    "            point_count += slew_rate_steps\n",
    "        #Check if bit is 0 and privious was 1\n",
    "        elif (~bit & 1) and prev_bit & 1:\n",
    "            points_array.extend(fall_sequence)\n",
    "            point_count += slew_rate_steps\n",
    "\n",
    "        v_target = logic_high_level if bit & 1 else logic_low_level\n",
    "        while((point_count * point_duration) < (symbol_duration * symbol_count)):\n",
    "            points_array.append(v_target)\n",
    "            point_count += 1\n",
    "        prev_bit = bit\n",
    "\n",
    "if dev_mode: display(points_array)"
   ]
  },
  {
   "cell_type": "code",
   "execution_count": 47,
   "metadata": {},
   "outputs": [],
   "source": [
    "# Fixing the last transition if needed (shopping a bit early)\n",
    "\n",
    "#First bit of binary ASCII array is\n",
    "if dev_mode: print(f\"First bit: 0b{bin(s_t_s[0])[2:].zfill(8)}\")\n",
    "f_b = (s_t_s[0] >> 7) & 1\n",
    "if dev_mode: print(f_b)\n",
    "\n",
    "#Last bit of binary ASCII array is\n",
    "if dev_mode: print(f\"Last bit: 0b{bin(s_t_s[-1])[2:].zfill(8)}\")\n",
    "l_b = (s_t_s[-1] >> 0) & 1\n",
    "if dev_mode: print(l_b)\n",
    "\n",
    "if f_b != l_b:\n",
    "    points_array = points_array[:-slew_rate_steps]\n",
    "    if l_b == 1:        \n",
    "        points_array.extend(fall_sequence)\n",
    "    else:        \n",
    "        points_array.extend(rise_sequence)"
   ]
  },
  {
   "cell_type": "markdown",
   "metadata": {},
   "source": [
    "## Outputs\n",
    "The output is a waveform definition in .csv format, following standard set by EasyWaveX."
   ]
  },
  {
   "cell_type": "code",
   "execution_count": 48,
   "metadata": {},
   "outputs": [],
   "source": [
    "import csv\n",
    "\n",
    "output_array = [\n",
    "    [\"data length\", f\"{ data_length :.0f}\"]\n",
    "    , [\"frequency\", f\"{ frequency :.6f}\"]\n",
    "    , [\"amp\", f\"{ abs(logic_high_level - logic_low_level) / 2 :.6f}\"]\n",
    "    , [\"offset\", f\"{ abs(logic_high_level - logic_low_level) / 2 :.6f}\"]\n",
    "    , [\"phase\", f\"{0:.6f}\"]\n",
    "    # , [''] #1\n",
    "    # , [''] #2\n",
    "    # , [''] #3\n",
    "    # , [''] #4\n",
    "    # , [''] #5\n",
    "    # , [''] #6\n",
    "    # , [''] #7\n",
    "    , ['xpos', 'value']\n",
    "]\n",
    "\n",
    "for index, point_val in enumerate(points_array):\n",
    "    output_array.append([f\"{index + 1:.0f}\", f\"{point_val:.6f}\"])\n",
    "\n",
    "if dev_mode: display(output_array[:100])\n",
    "\n",
    "with open(\"output.csv\", \"w\", newline=\"\") as file:\n",
    "    writer = csv.writer(file, quoting=csv.QUOTE_NONE, escapechar='\\\\')\n",
    "    writer.writerows(output_array)"
   ]
  }
 ],
 "metadata": {
  "kernelspec": {
   "display_name": "Python 3",
   "language": "python",
   "name": "python3"
  },
  "language_info": {
   "codemirror_mode": {
    "name": "ipython",
    "version": 3
   },
   "file_extension": ".py",
   "mimetype": "text/x-python",
   "name": "python",
   "nbconvert_exporter": "python",
   "pygments_lexer": "ipython3",
   "version": "3.11.6"
  }
 },
 "nbformat": 4,
 "nbformat_minor": 2
}
